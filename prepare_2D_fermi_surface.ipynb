{
 "cells": [
  {
   "cell_type": "code",
   "execution_count": 3,
   "metadata": {},
   "outputs": [],
   "source": [
    "import numpy as np\n",
    "import csv"
   ]
  },
  {
   "cell_type": "code",
   "execution_count": 31,
   "metadata": {},
   "outputs": [
    {
     "name": "stdout",
     "output_type": "stream",
     "text": [
      "(3721, 70)\n",
      "please give the input file %sbands.d\n"
     ]
    }
   ],
   "source": [
    "#myList = [1,2,3,4]\n",
    "#next(myList)\n",
    "a = 11.206102994633715*0.529177\n",
    "b = 0.657238*11.2061*0.529177\n",
    "am1 = 2*np.pi/a\n",
    "bm1 = 2*np.pi/b\n",
    "\n",
    "kxList = []\n",
    "kyList = []\n",
    "kzList = []\n",
    "nk = 3721\n",
    "nb = 70\n",
    "efermi = 11.2835\n",
    "enList = np.zeros((nk, nb))\n",
    "print enList.shape\n",
    "#file = \"test-read-bands.d\"\n",
    "file = raw_input(\"please give the input file %s\")\n",
    "with open (file, 'r') as f:\n",
    "    line = next(f).split()\n",
    "    #print line\n",
    "    #nb = int(line[2].strip(','))\n",
    "    #nk = int(line[4])\n",
    "    #nk = 2\n",
    "    for i in range(nk):\n",
    "        line_2 = next(f).split()\n",
    "        #print line_2\n",
    "        kx = float(line_2[0])\n",
    "        ky = float(line_2[1])\n",
    "        kz = float(line_2[2])\n",
    "        energy = []\n",
    "        for j in range(nb/10):\n",
    "            line_3 = next(f).split()\n",
    "            #energy.append(float(line_3))\n",
    "            #print map(float,line_3)\n",
    "            energy.extend(map(float,line_3))\n",
    "            \n",
    "        #print energy    #print energy\n",
    "        #print \"the energy lengh\", len(energy)\n",
    "        \n",
    "        kxList.append(kx)    \n",
    "        kyList.append(ky)        \n",
    "        kzList.append(kz)\n",
    "        #print \"the value i\", i\n",
    "        enList[i,:] = np.array(energy)-efermi\n",
    "    \n",
    "    #print \"kxList\", len(kxList), kxList\n",
    "    \n",
    "    x = np.array(kxList)*am1\n",
    "    y = np.array(kyList)*bm1\n",
    "    z = np.array(kzList)\n",
    "    \n",
    "    for i in range(nb):\n",
    "        filename = 'band_'+str(i+1)+'.dat'\n",
    "        with open(filename, 'w') as f:\n",
    "            for j in range(len(x)):\n",
    "                f.write(\"%15.8f %15.8f %15.8f \\n\" % (x[j], y[j], enList[j,i]))\n",
    "                if (j < len(x)-1 and x[j] != x[j+1]):\n",
    "                    f.write('\\n')\n",
    "            f.write('\\n')\n",
    "\n",
    "        \n",
    "        \n",
    "#print line"
   ]
  },
  {
   "cell_type": "code",
   "execution_count": null,
   "metadata": {},
   "outputs": [],
   "source": []
  }
 ],
 "metadata": {
  "kernelspec": {
   "display_name": "Python 2",
   "language": "python",
   "name": "python2"
  },
  "language_info": {
   "codemirror_mode": {
    "name": "ipython",
    "version": 2
   },
   "file_extension": ".py",
   "mimetype": "text/x-python",
   "name": "python",
   "nbconvert_exporter": "python",
   "pygments_lexer": "ipython2",
   "version": "2.7.15+"
  }
 },
 "nbformat": 4,
 "nbformat_minor": 2
}
